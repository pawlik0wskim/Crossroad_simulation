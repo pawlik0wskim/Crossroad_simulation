{
 "cells": [
  {
   "cell_type": "code",
   "execution_count": 7,
   "metadata": {},
   "outputs": [],
   "source": [
    "from Car import *\n",
    "import matplotlib.pyplot as plt\n",
    "WIDTH, HEIGHT = 1000, 1000\n",
    "position, angle, speed_limit, acceleration_exponent = (100, 0), 180, 15, 4\n",
    "car = Car(position, angle, WIDTH, HEIGHT, speed_limit, acceleration_exponent)\n"
   ]
  },
  {
   "cell_type": "code",
   "execution_count": 5,
   "metadata": {},
   "outputs": [
    {
     "data": {
      "text/plain": [
       "0.5928816131879224"
      ]
     },
     "execution_count": 5,
     "metadata": {},
     "output_type": "execute_result"
    }
   ],
   "source": [
    "n = 1000\n",
    "x_range = np.array(range(n))\n",
    "y_range = [0 for i in range((n))]\n",
    "for x in x_range:\n",
    "    \n",
    "    leading_dist=10 + car.minimum_dist\n",
    "    car2 = Car((position[0] + leading_dist, position[1]), angle, WIDTH, HEIGHT, speed_limit, acceleration_exponent)\n",
    "    car.nearest_car = car2\n",
    "    car.update_acceleration()\n",
    "    y_range[x] = car.acceleration\n",
    "    car.velocity = speed_limit\n"
   ]
  },
  {
   "cell_type": "code",
   "execution_count": null,
   "metadata": {},
   "outputs": [],
   "source": [
    "c:\\\\Users\\\\Maciek\\\\miniconda3\\\\envs\\\\jupyter;C:\\\\Program Files\\\\NVIDIA GPU Computing Toolkit\\\\CUDA\\\\v11.3\\\\bin;C:\\\\Program Files\\\\NVIDIA GPU Computing Toolkit\\\\CUDA\\\\v11.3\\\\libnvvp;C:\\\\Users\\\\Maciek\\\\miniconda3\\\\zlib\\\\dll_x64\\\\zlibwapi.dll;C:\\\\Program Files\\\\NVIDIA Corporation\\\\Nsight Compute 2021.1.0\\\\;C:\\\\Users\\\\Maciek\\\\miniconda3;C:\\\\Users\\\\Maciek\\\\miniconda3\\\\Library\\\\mingw-w64\\\\bin;C:\\\\Users\\\\Maciek\\\\miniconda3\\\\Library\\\\usr\\\\bin;C:\\\\Users\\\\Maciek\\\\miniconda3\\\\Library\\\\bin;C:\\\\Users\\\\Maciek\\\\miniconda3\\\\Scripts;C:\\\\Users\\\\Maciek\\\\AppData\\\\Local\\\\Microsoft\\\\WindowsApps;C:\\\\Users\\\\Maciek\\\\AppData\\\\Local\\\\GitHubDesktop\\\\bin;C:\\\\Program Files\\\\Azure Data Studio\\\\bin;C:\\\\Users\\\\Maciek\\\\AppData\\\\Local\\\\Programs\\\\Microsoft VS Code\\\\bin;C:\\\\Program Files\\\\NVIDIA GPU Computing Toolkit\\\\CUDA\\\\v11.7\\\\bin;C:\\\\Users\\\\Maciek\\\\miniconda3\\\\zlib\\\\dll_x64\\\\zlibwapi.dll;C:\\\\Users\\\\Maciek\\\\miniconda3\\\\zlib\\\\dll_x64;c:\\\\\\\\Users\\\\\\\\Maciek\\\\\\\\miniconda3\\\\\\\\envs\\\\\\\\tf;C:\\\\Users\\\\Maciek\\\\miniconda3\\\\envs\\\\tf;\"c:\\\\\\\\Users\\\\\\\\Maciek\\\\\\\\miniconda3\\\\\\\\envs\\\\\\\\tf;C:\\\\\\\\Program Files\\\\\\\\NVIDIA GPU Computing Toolkit\\\\\\\\CUDA\\\\\\\\v11.3\\\\\\\\bin;C:\\\\\\\\Program Files\\\\\\\\NVIDIA GPU Computing Toolkit\\\\\\\\CUDA\\\\\\\\v11.3\\\\\\\\libnvvp;C:\\\\\\\\Users\\\\\\\\Maciek\\\\\\\\miniconda3\\\\\\\\zlib\\\\\\\\dll_x64\\\\\\\\zlibwapi.dll;C:\\\\\\\\Program Files\\\\\\\\NVIDI\";;c:\\\\Users\\\\Maciek\\\\miniconda3\\\\envs\\\\jupyter\\\\lib\\\\site-packages\\\\pygame\n"
   ]
  }
 ],
 "metadata": {
  "kernelspec": {
   "display_name": "Python 3.9.12 ('base')",
   "language": "python",
   "name": "python3"
  },
  "language_info": {
   "codemirror_mode": {
    "name": "ipython",
    "version": 3
   },
   "file_extension": ".py",
   "mimetype": "text/x-python",
   "name": "python",
   "nbconvert_exporter": "python",
   "pygments_lexer": "ipython3",
   "version": "3.9.12"
  },
  "orig_nbformat": 4,
  "vscode": {
   "interpreter": {
    "hash": "5b9a30f7b528e3e862774bbe91917973817ca8f09a8d93c8f3c5b7bbebb19fa3"
   }
  }
 },
 "nbformat": 4,
 "nbformat_minor": 2
}
