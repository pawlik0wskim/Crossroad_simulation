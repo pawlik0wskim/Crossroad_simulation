{
 "cells": [
  {
   "cell_type": "code",
   "execution_count": 32,
   "metadata": {},
   "outputs": [],
   "source": [
    "import matplotlib.pyplot as plt\n",
    "from copy import deepcopy"
   ]
  },
  {
   "cell_type": "code",
   "execution_count": 35,
   "metadata": {},
   "outputs": [],
   "source": [
    "light_cycles = [[0.1,0.2,0.6,0.7],[0.1,0.2,0.6,0.7],[0.1,0.2,0.6,0.7],[0.1,0.2,0.6,0.7]]\n",
    "\n"
   ]
  },
  {
   "cell_type": "code",
   "execution_count": 56,
   "metadata": {},
   "outputs": [
    {
     "data": {
      "image/png": "[encoded data removed]",
      "text/plain": [
       "<Figure size 600x200 with 1 Axes>"
      ]
     },
     "metadata": {},
     "output_type": "display_data"
    }
   ],
   "source": [
    "starting_color=[\"Red\",\"Red\",\"Green\",\"Green\"]\n",
    "plot_data=deepcopy(light_cycles)\n",
    "colors=[\"Limegreen\",\"Gold\",\"r\",\"Gold\"]\n",
    "plt.figure(figsize=(6,2))\n",
    "for j in range(4):\n",
    "    plot_data[j].append(1)\n",
    "    for i in range(5):\n",
    "        if starting_color[j]==\"Red\":\n",
    "            col=colors[i] if i<4 else colors[0] \n",
    "        else:\n",
    "            col=colors[i+2] if i<2 else colors[i-2] \n",
    "        \n",
    "        plt.barh([j],plot_data[j][-i-1],color=col, height=1/2)\n",
    "plt.axis('off')\n",
    "plt.show()\n",
    "    \n"
   ]
  },
  {
   "cell_type": "code",
   "execution_count": 37,
   "metadata": {},
   "outputs": [
    {
     "data": {
      "text/plain": [
       "[[0.1, 0.2, 0.6, 0.7, 1],\n",
       " [0.1, 0.2, 0.6, 0.7, 1],\n",
       " [0.1, 0.2, 0.6, 0.7, 1],\n",
       " [0.1, 0.2, 0.6, 0.7, 1]]"
      ]
     },
     "execution_count": 37,
     "metadata": {},
     "output_type": "execute_result"
    }
   ],
   "source": [
    "plot_data"
   ]
  }
 ],
 "metadata": {
  "kernelspec": {
   "display_name": "tf",
   "language": "python",
   "name": "python3"
  },
  "language_info": {
   "codemirror_mode": {
    "name": "ipython",
    "version": 3
   },
   "file_extension": ".py",
   "mimetype": "text/x-python",
   "name": "python",
   "nbconvert_exporter": "python",
   "pygments_lexer": "ipython3",
   "version": "3.9.15"
  },
  "orig_nbformat": 4,
  "vscode": {
   "interpreter": {
    "hash": "5ddf770433fe4562b1957e9ad35280fa64b71b90dc1c7ed1df710f057ec94914"
   }
  }
 },
 "nbformat": 4,
 "nbformat_minor": 2
}
