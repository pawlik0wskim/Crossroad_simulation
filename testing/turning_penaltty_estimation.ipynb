{
 "cells": [
  {
   "cell_type": "code",
   "execution_count": 2,
   "metadata": {},
   "outputs": [],
   "source": [
    "import matplotlib.pyplot as plt\n",
    "import pandas as pd\n",
    "import numpy as np\n"
   ]
  },
  {
   "cell_type": "code",
   "execution_count": 27,
   "metadata": {},
   "outputs": [
    {
     "data": {
      "image/png": "[encoded data removed]",
      "text/plain": [
       "<Figure size 640x480 with 1 Axes>"
      ]
     },
     "metadata": {},
     "output_type": "display_data"
    }
   ],
   "source": [
    "df= pd.read_csv(r\"C:\\Users\\Maciek\\Documents\\Studia\\semestr 7\\Crossroad_simulation\\testing\\turning_penalty2.csv\")\n",
    "\n",
    "df2= pd.read_csv(r\"C:\\Users\\Maciek\\Documents\\Studia\\semestr 7\\Crossroad_simulation\\testing\\turning_penalty3.csv\")\n",
    "df=pd.concat([df,df2])\n",
    "df2= pd.read_csv(r\"C:\\Users\\Maciek\\Documents\\Studia\\semestr 7\\Crossroad_simulation\\testing\\turning_penalty4.csv\")\n",
    "df=pd.concat([df,df2])\n",
    "df2= pd.read_csv(r\"C:\\Users\\Maciek\\Documents\\Studia\\semestr 7\\Crossroad_simulation\\testing\\turning_penalty5.csv\")\n",
    "df=pd.concat([df,df2])\n",
    "df2= pd.read_csv(r\"C:\\Users\\Maciek\\Documents\\Studia\\semestr 7\\Crossroad_simulation\\testing\\turning_penalty6.csv\")\n",
    "df=pd.concat([df,df2])\n",
    "df2= pd.read_csv(r\"C:\\Users\\Maciek\\Documents\\Studia\\semestr 7\\Crossroad_simulation\\testing\\turning_penalty7.csv\")\n",
    "df=pd.concat([df,df2])\n",
    "\n",
    "df2= pd.read_csv(r\"C:\\Users\\Maciek\\Documents\\Studia\\semestr 7\\Crossroad_simulation\\testing\\turning_penalty8.csv\")\n",
    "df=pd.concat([df,df2])\n",
    "df=df[df[\"stopped\"]==False]\n",
    "df[\"cost\"]=-df[\"Flow\"]+df[\"Collisions\"]*np.log(df[\"Collisions\"]+1)\n",
    "plt.scatter(df[\"turning_penalty\"],df[\"cost\"])\n",
    "plt.show()"
   ]
  },
  {
   "cell_type": "code",
   "execution_count": 28,
   "metadata": {},
   "outputs": [
    {
     "data": {
      "text/plain": [
       "301"
      ]
     },
     "execution_count": 28,
     "metadata": {},
     "output_type": "execute_result"
    }
   ],
   "source": [
    "len(df)"
   ]
  },
  {
   "cell_type": "code",
   "execution_count": 29,
   "metadata": {},
   "outputs": [
    {
     "data": {
      "text/html": [
       "<div>\n",
       "<style scoped>\n",
       "    .dataframe tbody tr th:only-of-type {\n",
       "        vertical-align: middle;\n",
       "    }\n",
       "\n",
       "    .dataframe tbody tr th {\n",
       "        vertical-align: top;\n",
       "    }\n",
       "\n",
       "    .dataframe thead th {\n",
       "        text-align: right;\n",
       "    }\n",
       "</style>\n",
       "<table border=\"1\" class=\"dataframe\">\n",
       "  <thead>\n",
       "    <tr style=\"text-align: right;\">\n",
       "      <th></th>\n",
       "      <th>turning_penalty</th>\n",
       "      <th>Flow</th>\n",
       "      <th>Collisions</th>\n",
       "      <th>stopped</th>\n",
       "      <th>iteration</th>\n",
       "      <th>cost</th>\n",
       "    </tr>\n",
       "  </thead>\n",
       "  <tbody>\n",
       "    <tr>\n",
       "      <th>42</th>\n",
       "      <td>0.208674</td>\n",
       "      <td>390</td>\n",
       "      <td>1</td>\n",
       "      <td>False</td>\n",
       "      <td>9999</td>\n",
       "      <td>-389.306853</td>\n",
       "    </tr>\n",
       "    <tr>\n",
       "      <th>8</th>\n",
       "      <td>0.086486</td>\n",
       "      <td>387</td>\n",
       "      <td>4</td>\n",
       "      <td>False</td>\n",
       "      <td>9999</td>\n",
       "      <td>-380.562248</td>\n",
       "    </tr>\n",
       "    <tr>\n",
       "      <th>12</th>\n",
       "      <td>0.140419</td>\n",
       "      <td>382</td>\n",
       "      <td>2</td>\n",
       "      <td>False</td>\n",
       "      <td>9999</td>\n",
       "      <td>-379.802775</td>\n",
       "    </tr>\n",
       "    <tr>\n",
       "      <th>35</th>\n",
       "      <td>0.212907</td>\n",
       "      <td>384</td>\n",
       "      <td>4</td>\n",
       "      <td>False</td>\n",
       "      <td>9999</td>\n",
       "      <td>-377.562248</td>\n",
       "    </tr>\n",
       "    <tr>\n",
       "      <th>2</th>\n",
       "      <td>0.146534</td>\n",
       "      <td>379</td>\n",
       "      <td>2</td>\n",
       "      <td>False</td>\n",
       "      <td>9999</td>\n",
       "      <td>-376.802775</td>\n",
       "    </tr>\n",
       "  </tbody>\n",
       "</table>\n",
       "</div>"
      ],
      "text/plain": [
       "    turning_penalty  Flow  Collisions  stopped  iteration        cost\n",
       "42         0.208674   390           1    False       9999 -389.306853\n",
       "8          0.086486   387           4    False       9999 -380.562248\n",
       "12         0.140419   382           2    False       9999 -379.802775\n",
       "35         0.212907   384           4    False       9999 -377.562248\n",
       "2          0.146534   379           2    False       9999 -376.802775"
      ]
     },
     "execution_count": 29,
     "metadata": {},
     "output_type": "execute_result"
    }
   ],
   "source": [
    "head=df.sort_values(by=[\"cost\"]).head()\n",
    "head"
   ]
  },
  {
   "cell_type": "code",
   "execution_count": 30,
   "metadata": {},
   "outputs": [
    {
     "data": {
      "text/plain": [
       "0.16446775260420113"
      ]
     },
     "execution_count": 30,
     "metadata": {},
     "output_type": "execute_result"
    }
   ],
   "source": [
    "np.sum(head[\"turning_penalty\"]*[5,3,2,2,2])/np.sum([5,3,2,2,2])"
   ]
  },
  {
   "cell_type": "code",
   "execution_count": 31,
   "metadata": {},
   "outputs": [
    {
     "name": "stdout",
     "output_type": "stream",
     "text": [
      "    turning_penalty_multiply  Flow  Collisions  stopped  iteration        cost\n",
      "1                   0.446250   363           9    False       9999 -342.276734\n",
      "2                   0.339416   367           5    False       9999 -358.041203\n",
      "3                   0.171689   358           5    False       9999 -349.041203\n",
      "4                   0.746535   379           5    False       9999 -370.041203\n",
      "5                   0.121787   381           7    False       9999 -366.443909\n",
      "..                       ...   ...         ...      ...        ...         ...\n",
      "43                  0.335836   366           8    False       9999 -348.422203\n",
      "44                  0.994836   355           5    False       9999 -346.041203\n",
      "45                  0.553157   378           4    False       9999 -371.562248\n",
      "46                  0.065032   366           9    False       9999 -345.276734\n",
      "47                  0.829334   367           5    False       9999 -358.041203\n",
      "\n",
      "[249 rows x 6 columns]\n"
     ]
    },
    {
     "data": {
      "image/png": "[encoded data removed]",
      "text/plain": [
       "<Figure size 640x480 with 1 Axes>"
      ]
     },
     "metadata": {},
     "output_type": "display_data"
    }
   ],
   "source": [
    "df= pd.read_csv(r\"C:\\Users\\Maciek\\Documents\\Studia\\semestr 7\\Crossroad_simulation\\testing\\turning_penalty_multiply2.csv\")\n",
    "\n",
    "df2= pd.read_csv(r\"C:\\Users\\Maciek\\Documents\\Studia\\semestr 7\\Crossroad_simulation\\testing\\turning_penalty_multiply3.csv\")\n",
    "df=pd.concat([df,df2])\n",
    "df2= pd.read_csv(r\"C:\\Users\\Maciek\\Documents\\Studia\\semestr 7\\Crossroad_simulation\\testing\\turning_penalty_multiply4.csv\")\n",
    "df=pd.concat([df,df2])\n",
    "df2= pd.read_csv(r\"C:\\Users\\Maciek\\Documents\\Studia\\semestr 7\\Crossroad_simulation\\testing\\turning_penalty_multiply5.csv\")\n",
    "df=pd.concat([df,df2])\n",
    "df2= pd.read_csv(r\"C:\\Users\\Maciek\\Documents\\Studia\\semestr 7\\Crossroad_simulation\\testing\\turning_penalty_multiply6.csv\")\n",
    "df=pd.concat([df,df2])\n",
    "df2= pd.read_csv(r\"C:\\Users\\Maciek\\Documents\\Studia\\semestr 7\\Crossroad_simulation\\testing\\turning_penalty_multiply7.csv\")\n",
    "df=pd.concat([df,df2])\n",
    "df[\"cost\"]=-df[\"Flow\"]+df[\"Collisions\"]*np.log(df[\"Collisions\"]+1)\n",
    "df=df[df[\"stopped\"]==False]\n",
    "print(df)\n",
    "plt.scatter(df[\"turning_penalty_multiply\"],df[\"cost\"])\n",
    "plt.show()"
   ]
  },
  {
   "cell_type": "code",
   "execution_count": 32,
   "metadata": {},
   "outputs": [
    {
     "data": {
      "text/html": [
       "<div>\n",
       "<style scoped>\n",
       "    .dataframe tbody tr th:only-of-type {\n",
       "        vertical-align: middle;\n",
       "    }\n",
       "\n",
       "    .dataframe tbody tr th {\n",
       "        vertical-align: top;\n",
       "    }\n",
       "\n",
       "    .dataframe thead th {\n",
       "        text-align: right;\n",
       "    }\n",
       "</style>\n",
       "<table border=\"1\" class=\"dataframe\">\n",
       "  <thead>\n",
       "    <tr style=\"text-align: right;\">\n",
       "      <th></th>\n",
       "      <th>turning_penalty_multiply</th>\n",
       "      <th>Flow</th>\n",
       "      <th>Collisions</th>\n",
       "      <th>stopped</th>\n",
       "      <th>iteration</th>\n",
       "      <th>cost</th>\n",
       "    </tr>\n",
       "  </thead>\n",
       "  <tbody>\n",
       "    <tr>\n",
       "      <th>47</th>\n",
       "      <td>0.267053</td>\n",
       "      <td>395</td>\n",
       "      <td>3</td>\n",
       "      <td>False</td>\n",
       "      <td>9999</td>\n",
       "      <td>-390.841117</td>\n",
       "    </tr>\n",
       "    <tr>\n",
       "      <th>0</th>\n",
       "      <td>0.230866</td>\n",
       "      <td>388</td>\n",
       "      <td>1</td>\n",
       "      <td>False</td>\n",
       "      <td>9999</td>\n",
       "      <td>-387.306853</td>\n",
       "    </tr>\n",
       "    <tr>\n",
       "      <th>5</th>\n",
       "      <td>0.482147</td>\n",
       "      <td>389</td>\n",
       "      <td>3</td>\n",
       "      <td>False</td>\n",
       "      <td>9999</td>\n",
       "      <td>-384.841117</td>\n",
       "    </tr>\n",
       "    <tr>\n",
       "      <th>35</th>\n",
       "      <td>0.931449</td>\n",
       "      <td>383</td>\n",
       "      <td>1</td>\n",
       "      <td>False</td>\n",
       "      <td>9999</td>\n",
       "      <td>-382.306853</td>\n",
       "    </tr>\n",
       "    <tr>\n",
       "      <th>36</th>\n",
       "      <td>0.250065</td>\n",
       "      <td>380</td>\n",
       "      <td>1</td>\n",
       "      <td>False</td>\n",
       "      <td>9999</td>\n",
       "      <td>-379.306853</td>\n",
       "    </tr>\n",
       "  </tbody>\n",
       "</table>\n",
       "</div>"
      ],
      "text/plain": [
       "    turning_penalty_multiply  Flow  Collisions  stopped  iteration        cost\n",
       "47                  0.267053   395           3    False       9999 -390.841117\n",
       "0                   0.230866   388           1    False       9999 -387.306853\n",
       "5                   0.482147   389           3    False       9999 -384.841117\n",
       "35                  0.931449   383           1    False       9999 -382.306853\n",
       "36                  0.250065   380           1    False       9999 -379.306853"
      ]
     },
     "execution_count": 32,
     "metadata": {},
     "output_type": "execute_result"
    }
   ],
   "source": [
    "head=df.sort_values(by=[\"cost\"]).head()\n",
    "head"
   ]
  },
  {
   "cell_type": "code",
   "execution_count": 33,
   "metadata": {},
   "outputs": [
    {
     "data": {
      "text/plain": [
       "0.3478059207855786"
      ]
     },
     "execution_count": 33,
     "metadata": {},
     "output_type": "execute_result"
    }
   ],
   "source": [
    "np.sum(head[\"turning_penalty_multiply\"]*[5,3,2,1,1])/np.sum([5,3,2,1,1])"
   ]
  },
  {
   "cell_type": "code",
   "execution_count": 34,
   "metadata": {},
   "outputs": [
    {
     "name": "stdout",
     "output_type": "stream",
     "text": [
      "    turning_penalty_faster  Flow  Collisions  stopped  iteration        cost\n",
      "0                 0.390361   476          19    False       9999 -419.081087\n",
      "1                 0.243913   508           7    False       9999 -493.443909\n",
      "2                 0.742298   459          33    False       9999 -342.630103\n",
      "3                 0.680424   443          34    False       9999 -322.118166\n",
      "4                 0.559655   459          30    False       9999 -355.980384\n",
      "..                     ...   ...         ...      ...        ...         ...\n",
      "45                0.755554   448          36    False       9999 -318.006955\n",
      "46                0.560190   450          32    False       9999 -338.111758\n",
      "47                0.482551   493          20    False       9999 -432.109551\n",
      "48                0.800213   450          36    False       9999 -320.006955\n",
      "49                0.562482   464          26    False       9999 -378.308241\n",
      "\n",
      "[339 rows x 6 columns]\n"
     ]
    },
    {
     "data": {
      "image/png": "[encoded data removed]",
      "text/plain": [
       "<Figure size 640x480 with 1 Axes>"
      ]
     },
     "metadata": {},
     "output_type": "display_data"
    }
   ],
   "source": [
    "df= pd.read_csv(r\"C:\\Users\\Maciek\\Documents\\Studia\\semestr 7\\Crossroad_simulation\\testing\\turning_penalty_faster2.csv\")\n",
    "\n",
    "df2= pd.read_csv(r\"C:\\Users\\Maciek\\Documents\\Studia\\semestr 7\\Crossroad_simulation\\testing\\turning_penalty_faster3.csv\")\n",
    "df=pd.concat([df,df2])\n",
    "df2= pd.read_csv(r\"C:\\Users\\Maciek\\Documents\\Studia\\semestr 7\\Crossroad_simulation\\testing\\turning_penalty_faster4.csv\")\n",
    "df=pd.concat([df,df2])\n",
    "df2= pd.read_csv(r\"C:\\Users\\Maciek\\Documents\\Studia\\semestr 7\\Crossroad_simulation\\testing\\turning_penalty_faster5.csv\")\n",
    "df=pd.concat([df,df2])\n",
    "df2= pd.read_csv(r\"C:\\Users\\Maciek\\Documents\\Studia\\semestr 7\\Crossroad_simulation\\testing\\turning_penalty_faster6.csv\")\n",
    "df=pd.concat([df,df2])\n",
    "df2= pd.read_csv(r\"C:\\Users\\Maciek\\Documents\\Studia\\semestr 7\\Crossroad_simulation\\testing\\turning_penalty_faster7.csv\")\n",
    "df=pd.concat([df,df2])\n",
    "df2= pd.read_csv(r\"C:\\Users\\Maciek\\Documents\\Studia\\semestr 7\\Crossroad_simulation\\testing\\turning_penalty_faster.csv\")\n",
    "df=pd.concat([df,df2])\n",
    "df=df[df[\"stopped\"]==False]\n",
    "df[\"cost\"]=-df[\"Flow\"]+df[\"Collisions\"]*np.log(df[\"Collisions\"]+1)\n",
    "print(df)\n",
    "plt.scatter(df[\"turning_penalty_faster\"],df[\"cost\"])\n",
    "plt.show()"
   ]
  },
  {
   "cell_type": "code",
   "execution_count": 35,
   "metadata": {},
   "outputs": [
    {
     "data": {
      "text/html": [
       "<div>\n",
       "<style scoped>\n",
       "    .dataframe tbody tr th:only-of-type {\n",
       "        vertical-align: middle;\n",
       "    }\n",
       "\n",
       "    .dataframe tbody tr th {\n",
       "        vertical-align: top;\n",
       "    }\n",
       "\n",
       "    .dataframe thead th {\n",
       "        text-align: right;\n",
       "    }\n",
       "</style>\n",
       "<table border=\"1\" class=\"dataframe\">\n",
       "  <thead>\n",
       "    <tr style=\"text-align: right;\">\n",
       "      <th></th>\n",
       "      <th>turning_penalty_faster</th>\n",
       "      <th>Flow</th>\n",
       "      <th>Collisions</th>\n",
       "      <th>stopped</th>\n",
       "      <th>iteration</th>\n",
       "      <th>cost</th>\n",
       "    </tr>\n",
       "  </thead>\n",
       "  <tbody>\n",
       "    <tr>\n",
       "      <th>43</th>\n",
       "      <td>0.084213</td>\n",
       "      <td>524</td>\n",
       "      <td>3</td>\n",
       "      <td>False</td>\n",
       "      <td>9999</td>\n",
       "      <td>-519.841117</td>\n",
       "    </tr>\n",
       "    <tr>\n",
       "      <th>36</th>\n",
       "      <td>0.267994</td>\n",
       "      <td>513</td>\n",
       "      <td>3</td>\n",
       "      <td>False</td>\n",
       "      <td>9999</td>\n",
       "      <td>-508.841117</td>\n",
       "    </tr>\n",
       "    <tr>\n",
       "      <th>34</th>\n",
       "      <td>0.249897</td>\n",
       "      <td>514</td>\n",
       "      <td>4</td>\n",
       "      <td>False</td>\n",
       "      <td>9999</td>\n",
       "      <td>-507.562248</td>\n",
       "    </tr>\n",
       "    <tr>\n",
       "      <th>33</th>\n",
       "      <td>0.167374</td>\n",
       "      <td>511</td>\n",
       "      <td>3</td>\n",
       "      <td>False</td>\n",
       "      <td>9999</td>\n",
       "      <td>-506.841117</td>\n",
       "    </tr>\n",
       "    <tr>\n",
       "      <th>10</th>\n",
       "      <td>0.075813</td>\n",
       "      <td>509</td>\n",
       "      <td>3</td>\n",
       "      <td>False</td>\n",
       "      <td>9999</td>\n",
       "      <td>-504.841117</td>\n",
       "    </tr>\n",
       "  </tbody>\n",
       "</table>\n",
       "</div>"
      ],
      "text/plain": [
       "    turning_penalty_faster  Flow  Collisions  stopped  iteration        cost\n",
       "43                0.084213   524           3    False       9999 -519.841117\n",
       "36                0.267994   513           3    False       9999 -508.841117\n",
       "34                0.249897   514           4    False       9999 -507.562248\n",
       "33                0.167374   511           3    False       9999 -506.841117\n",
       "10                0.075813   509           3    False       9999 -504.841117"
      ]
     },
     "execution_count": 35,
     "metadata": {},
     "output_type": "execute_result"
    }
   ],
   "source": [
    "head=df.sort_values(by=[\"cost\"]).head()\n",
    "head"
   ]
  },
  {
   "cell_type": "code",
   "execution_count": 36,
   "metadata": {},
   "outputs": [
    {
     "data": {
      "text/plain": [
       "0.16400224227682236"
      ]
     },
     "execution_count": 36,
     "metadata": {},
     "output_type": "execute_result"
    }
   ],
   "source": [
    "np.sum(head[\"turning_penalty_faster\"]*[5,3,2,1,1])/np.sum([5,3,2,1,1])"
   ]
  },
  {
   "cell_type": "code",
   "execution_count": 59,
   "metadata": {},
   "outputs": [
    {
     "name": "stdout",
     "output_type": "stream",
     "text": [
      "    turning_penalty_4  Flow  Collisions  stopped  iteration        cost\n",
      "1            0.071498   284           2    False       9999 -281.802775\n",
      "2            0.979618   266          19    False       9999 -209.081087\n",
      "4            0.175638   268           2    False       9999 -265.802775\n",
      "5            0.364649   282           6    False       9999 -270.324539\n",
      "6            0.524300   261          17    False       9999 -211.863680\n",
      "..                ...   ...         ...      ...        ...         ...\n",
      "9            0.304601   277           6    False       9999 -265.324539\n",
      "13           0.155741   275           2    False       9999 -272.802775\n",
      "14           0.166082   270           1    False       9999 -269.306853\n",
      "16           0.218445   265           7    False       9999 -250.443909\n",
      "19           0.330310   264           8    False       9999 -246.422203\n",
      "\n",
      "[254 rows x 6 columns]\n"
     ]
    },
    {
     "data": {
      "image/png": "[encoded data removed]",
      "text/plain": [
       "<Figure size 640x480 with 1 Axes>"
      ]
     },
     "metadata": {},
     "output_type": "display_data"
    }
   ],
   "source": [
    "df= pd.read_csv(r\"C:\\Users\\Maciek\\Documents\\Studia\\semestr 7\\Crossroad_simulation\\testing\\turning_penalty_42.csv\")\n",
    "\n",
    "df2= pd.read_csv(r\"C:\\Users\\Maciek\\Documents\\Studia\\semestr 7\\Crossroad_simulation\\testing\\turning_penalty_43.csv\")\n",
    "df=pd.concat([df,df2])\n",
    "\n",
    "df2= pd.read_csv(r\"C:\\Users\\Maciek\\Documents\\Studia\\semestr 7\\Crossroad_simulation\\testing\\turning_penalty_45.csv\")\n",
    "df=pd.concat([df,df2])\n",
    "\n",
    "df2= pd.read_csv(r\"C:\\Users\\Maciek\\Documents\\Studia\\semestr 7\\Crossroad_simulation\\testing\\turning_penalty_47.csv\")\n",
    "df=pd.concat([df,df2])\n",
    "df2= pd.read_csv(r\"C:\\Users\\Maciek\\Documents\\Studia\\semestr 7\\Crossroad_simulation\\testing\\turning_penalty_4.csv\")\n",
    "df=pd.concat([df,df2])\n",
    "df2= pd.read_csv(r\"C:\\Users\\Maciek\\Documents\\Studia\\semestr 7\\Crossroad_simulation\\testing\\turning_penalty_48.csv\")\n",
    "df=pd.concat([df,df2])\n",
    "df2= pd.read_csv(r\"C:\\Users\\Maciek\\Documents\\Studia\\semestr 7\\Crossroad_simulation\\testing\\turning_penalty_49.csv\")\n",
    "df=pd.concat([df,df2])\n",
    "df2= pd.read_csv(r\"C:\\Users\\Maciek\\Documents\\Studia\\semestr 7\\Crossroad_simulation\\testing\\turning_penalty_410.csv\")\n",
    "df=pd.concat([df,df2])\n",
    "df2= pd.read_csv(r\"C:\\Users\\Maciek\\Documents\\Studia\\semestr 7\\Crossroad_simulation\\testing\\turning_penalty_411.csv\")\n",
    "df=pd.concat([df,df2])\n",
    "df2= pd.read_csv(r\"C:\\Users\\Maciek\\Documents\\Studia\\semestr 7\\Crossroad_simulation\\testing\\turning_penalty_412.csv\")\n",
    "df=pd.concat([df,df2])\n",
    "df2= pd.read_csv(r\"C:\\Users\\Maciek\\Documents\\Studia\\semestr 7\\Crossroad_simulation\\testing\\turning_penalty_413.csv\")\n",
    "df=pd.concat([df,df2])\n",
    "df2= pd.read_csv(r\"C:\\Users\\Maciek\\Documents\\Studia\\semestr 7\\Crossroad_simulation\\testing\\turning_penalty_414.csv\")\n",
    "df=pd.concat([df,df2])\n",
    "df2= pd.read_csv(r\"C:\\Users\\Maciek\\Documents\\Studia\\semestr 7\\Crossroad_simulation\\testing\\turning_penalty_415.csv\")\n",
    "df=pd.concat([df,df2])\n",
    "df2= pd.read_csv(r\"C:\\Users\\Maciek\\Documents\\Studia\\semestr 7\\Crossroad_simulation\\testing\\turning_penalty_416.csv\")\n",
    "df=pd.concat([df,df2])\n",
    "df2= pd.read_csv(r\"C:\\Users\\Maciek\\Documents\\Studia\\semestr 7\\Crossroad_simulation\\testing\\turning_penalty_417.csv\")\n",
    "df=pd.concat([df,df2])\n",
    "df[\"cost\"]=-df[\"Flow\"]+df[\"Collisions\"]*np.log(df[\"Collisions\"]+1)\n",
    "df3=df[df[\"stopped\"]==False]\n",
    "\n",
    "df4=df[df[\"stopped\"]]\n",
    "print(df3)\n",
    "plt.scatter(df3[\"turning_penalty_4\"],df3[\"cost\"])\n",
    "plt.show()"
   ]
  },
  {
   "cell_type": "code",
   "execution_count": 60,
   "metadata": {},
   "outputs": [
    {
     "data": {
      "text/html": [
       "<div>\n",
       "<style scoped>\n",
       "    .dataframe tbody tr th:only-of-type {\n",
       "        vertical-align: middle;\n",
       "    }\n",
       "\n",
       "    .dataframe tbody tr th {\n",
       "        vertical-align: top;\n",
       "    }\n",
       "\n",
       "    .dataframe thead th {\n",
       "        text-align: right;\n",
       "    }\n",
       "</style>\n",
       "<table border=\"1\" class=\"dataframe\">\n",
       "  <thead>\n",
       "    <tr style=\"text-align: right;\">\n",
       "      <th></th>\n",
       "      <th>turning_penalty_4</th>\n",
       "      <th>Flow</th>\n",
       "      <th>Collisions</th>\n",
       "      <th>stopped</th>\n",
       "      <th>iteration</th>\n",
       "      <th>cost</th>\n",
       "    </tr>\n",
       "  </thead>\n",
       "  <tbody>\n",
       "    <tr>\n",
       "      <th>13</th>\n",
       "      <td>0.038547</td>\n",
       "      <td>289</td>\n",
       "      <td>1</td>\n",
       "      <td>False</td>\n",
       "      <td>9999</td>\n",
       "      <td>-288.306853</td>\n",
       "    </tr>\n",
       "    <tr>\n",
       "      <th>19</th>\n",
       "      <td>0.361471</td>\n",
       "      <td>289</td>\n",
       "      <td>2</td>\n",
       "      <td>False</td>\n",
       "      <td>9999</td>\n",
       "      <td>-286.802775</td>\n",
       "    </tr>\n",
       "    <tr>\n",
       "      <th>18</th>\n",
       "      <td>0.008026</td>\n",
       "      <td>287</td>\n",
       "      <td>2</td>\n",
       "      <td>False</td>\n",
       "      <td>9999</td>\n",
       "      <td>-284.802775</td>\n",
       "    </tr>\n",
       "    <tr>\n",
       "      <th>34</th>\n",
       "      <td>0.046243</td>\n",
       "      <td>284</td>\n",
       "      <td>1</td>\n",
       "      <td>False</td>\n",
       "      <td>9999</td>\n",
       "      <td>-283.306853</td>\n",
       "    </tr>\n",
       "    <tr>\n",
       "      <th>17</th>\n",
       "      <td>0.013940</td>\n",
       "      <td>283</td>\n",
       "      <td>1</td>\n",
       "      <td>False</td>\n",
       "      <td>9999</td>\n",
       "      <td>-282.306853</td>\n",
       "    </tr>\n",
       "  </tbody>\n",
       "</table>\n",
       "</div>"
      ],
      "text/plain": [
       "    turning_penalty_4  Flow  Collisions  stopped  iteration        cost\n",
       "13           0.038547   289           1    False       9999 -288.306853\n",
       "19           0.361471   289           2    False       9999 -286.802775\n",
       "18           0.008026   287           2    False       9999 -284.802775\n",
       "34           0.046243   284           1    False       9999 -283.306853\n",
       "17           0.013940   283           1    False       9999 -282.306853"
      ]
     },
     "execution_count": 60,
     "metadata": {},
     "output_type": "execute_result"
    }
   ],
   "source": [
    "head=df.sort_values(by=[\"cost\"]).head()\n",
    "head"
   ]
  },
  {
   "cell_type": "code",
   "execution_count": 61,
   "metadata": {},
   "outputs": [
    {
     "data": {
      "text/plain": [
       "0.11278162134552028"
      ]
     },
     "execution_count": 61,
     "metadata": {},
     "output_type": "execute_result"
    }
   ],
   "source": [
    "np.sum(head[\"turning_penalty_4\"]*[5,3,2,1,1])/np.sum([5,3,2,1,1])"
   ]
  },
  {
   "cell_type": "code",
   "execution_count": 64,
   "metadata": {},
   "outputs": [
    {
     "data": {
      "text/plain": [
       "(array([[14., 13., 19., 18., 19., 24., 29., 19., 16., 17.,  5., 10.,  6.,\n",
       "          6.,  4., 11.,  4.,  9.,  4.,  7.],\n",
       "        [24., 30., 42., 37., 37., 36., 45., 28., 26., 29.,  9., 17.,  9.,\n",
       "         10.,  7., 16.,  8., 15., 10., 15.]]),\n",
       " array([0.00310529, 0.05269436, 0.10228343, 0.15187251, 0.20146158,\n",
       "        0.25105065, 0.30063973, 0.3502288 , 0.39981787, 0.44940694,\n",
       "        0.49899602, 0.54858509, 0.59817416, 0.64776324, 0.69735231,\n",
       "        0.74694138, 0.79653045, 0.84611953, 0.8957086 , 0.94529767,\n",
       "        0.99488675]),\n",
       " <a list of 2 BarContainer objects>)"
      ]
     },
     "execution_count": 64,
     "metadata": {},
     "output_type": "execute_result"
    },
    {
     "data": {
      "image/png": "[encoded data removed]",
      "text/plain": [
       "<Figure size 640x480 with 1 Axes>"
      ]
     },
     "metadata": {},
     "output_type": "display_data"
    }
   ],
   "source": [
    "x,y=df3[\"turning_penalty_4\"],df4[\"turning_penalty_4\"]\n",
    "\n",
    "plt.hist([x,y], stacked=True, bins=20)"
   ]
  },
  {
   "cell_type": "code",
   "execution_count": null,
   "metadata": {},
   "outputs": [],
   "source": []
  }
 ],
 "metadata": {
  "kernelspec": {
   "display_name": "Python 3.9.12 ('base')",
   "language": "python",
   "name": "python3"
  },
  "language_info": {
   "codemirror_mode": {
    "name": "ipython",
    "version": 3
   },
   "file_extension": ".py",
   "mimetype": "text/x-python",
   "name": "python",
   "nbconvert_exporter": "python",
   "pygments_lexer": "ipython3",
   "version": "3.9.12"
  },
  "orig_nbformat": 4,
  "vscode": {
   "interpreter": {
    "hash": "5b9a30f7b528e3e862774bbe91917973817ca8f09a8d93c8f3c5b7bbebb19fa3"
   }
  }
 },
 "nbformat": 4,
 "nbformat_minor": 2
}
